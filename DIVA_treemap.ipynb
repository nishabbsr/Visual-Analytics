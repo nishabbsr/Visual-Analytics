{
 "cells": [
  {
   "cell_type": "code",
   "execution_count": 1,
   "id": "e074d6da-4421-4905-b803-0da680483569",
   "metadata": {},
   "outputs": [],
   "source": [
    "import plotly.express as px\n",
    "import plotly.io as pio\n",
    "import pandas as pd\n",
    "import numpy as np\n",
    "pio.renderers.default='iframe'\n",
    "pd.options.mode.chained_assignment = None  \n",
    "\n",
    "df = pd.read_csv('asoiaf_nodes_prop.csv')"
   ]
  },
  {
   "cell_type": "code",
   "execution_count": 2,
   "id": "221fefae-66cd-4587-a2c8-91457a1b8486",
   "metadata": {},
   "outputs": [],
   "source": [
    "def prepare_buckets(subset_df, column_name, level):\n",
    "    mean = subset_df[column_name].mean()\n",
    "    std = subset_df[column_name].std()\n",
    "    if str(std)=='nan': std = 0\n",
    "\n",
    "        # Iterate over all rows and calculate buckets\n",
    "    for index, row in subset_df.iterrows():\n",
    "        i = 0\n",
    "        j = 0\n",
    "        flag = True\n",
    "        while flag:\n",
    "            # left\n",
    "            left_start = mean - (i * std)\n",
    "            left_end = mean - ((i-1) * std)\n",
    "            #right\n",
    "            right_start = mean - (j * std)\n",
    "            right_end = mean - ((j-1) * std)\n",
    "            \n",
    "            # Condition checking\n",
    "            if left_start<=row[column_name]<=left_end:\n",
    "                subset_df.loc[index, 'bucket_'+str(level)] = str(\"(\"+str(left_start)+\",\"+str(left_end)+\")\")\n",
    "                flag=False\n",
    "            if right_start<=row[column_name]<=right_end:\n",
    "                subset_df.loc[index, 'bucket_'+str(level)] = str(\"(\"+str(right_start)+\",\"+str(right_end)+\")\")\n",
    "                flag=False\n",
    "            \n",
    "            # Update pointer\n",
    "            i+=1\n",
    "            j-=1\n",
    "    return subset_df"
   ]
  },
  {
   "cell_type": "markdown",
   "id": "0ea88da4-2f65-4ce1-bbff-d37a2d5e797d",
   "metadata": {},
   "source": [
    "## Degree"
   ]
  },
  {
   "cell_type": "code",
   "execution_count": 3,
   "id": "7638829a-452f-441a-bd6d-c0c3bbbef7ef",
   "metadata": {},
   "outputs": [],
   "source": [
    "df = prepare_buckets(df, 'degree', 1)"
   ]
  },
  {
   "cell_type": "markdown",
   "id": "64caa106-93f8-464e-adf2-c9bea5284f66",
   "metadata": {},
   "source": [
    "## Peel, Pagerank, Diversity, and Betweenness"
   ]
  },
  {
   "cell_type": "code",
   "execution_count": 4,
   "id": "154808e1-2add-4078-97b0-ed0a86bcfc0e",
   "metadata": {},
   "outputs": [],
   "source": [
    "level = 2\n",
    "features = ['peel', 'pagerank', 'diversity', 'betweenness']\n",
    "\n",
    "for feature in features:\n",
    "    df1 = pd.DataFrame(data = None, columns= df.columns)\n",
    "    buckets = df['bucket_'+str(level-1)].unique()\n",
    "    for bucket in buckets:\n",
    "        pass_df = df[df['bucket_'+str(level-1)]==bucket]\n",
    "        df1 = df1.append(prepare_buckets(pass_df, feature, level), ignore_index=False) \n",
    "    df=df1\n",
    "    level+=1"
   ]
  },
  {
   "cell_type": "markdown",
   "id": "14868812-ba4e-4707-ade3-7a99a260463f",
   "metadata": {},
   "source": [
    "## Treemap"
   ]
  },
  {
   "cell_type": "code",
   "execution_count": 5,
   "id": "51c1f63a-34ea-43bf-9dc1-35762e89df07",
   "metadata": {},
   "outputs": [
    {
     "data": {
      "text/html": [
       "<iframe\n",
       "    scrolling=\"no\"\n",
       "    width=\"100%\"\n",
       "    height=\"545px\"\n",
       "    src=\"iframe_figures/figure_5.html\"\n",
       "    frameborder=\"0\"\n",
       "    allowfullscreen\n",
       "></iframe>\n"
      ]
     },
     "metadata": {},
     "output_type": "display_data"
    }
   ],
   "source": [
    "import plotly.express as px\n",
    "fig = px.treemap(df1, path=[px.Constant(\"all\"), 'bucket_1', 'bucket_2', 'bucket_3', 'bucket_4', 'bucket_5'])\n",
    "fig.update_traces(root_color=\"lightgrey\")\n",
    "fig.update_layout(margin = dict(t=50, l=25, r=25, b=25))\n",
    "fig.show()"
   ]
  },
  {
   "cell_type": "code",
   "execution_count": 6,
   "id": "099d23f3-dc04-4797-9491-269d39cab488",
   "metadata": {},
   "outputs": [],
   "source": [
    "fig.write_image(\"HW1_jc2777_treemap.png\")"
   ]
  },
  {
   "cell_type": "code",
   "execution_count": null,
   "id": "1dad4651-34c1-4564-b795-4a259d532c24",
   "metadata": {},
   "outputs": [],
   "source": []
  }
 ],
 "metadata": {
  "kernelspec": {
   "display_name": "Python 3.8",
   "language": "python",
   "name": "python3"
  },
  "language_info": {
   "codemirror_mode": {
    "name": "ipython",
    "version": 3
   },
   "file_extension": ".py",
   "mimetype": "text/x-python",
   "name": "python",
   "nbconvert_exporter": "python",
   "pygments_lexer": "ipython3",
   "version": "3.8.10"
  }
 },
 "nbformat": 4,
 "nbformat_minor": 5
}
